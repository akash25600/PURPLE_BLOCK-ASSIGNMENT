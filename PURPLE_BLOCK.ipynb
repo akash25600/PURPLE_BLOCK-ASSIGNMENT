{
  "nbformat": 4,
  "nbformat_minor": 0,
  "metadata": {
    "colab": {
      "provenance": []
    },
    "kernelspec": {
      "name": "python3",
      "display_name": "Python 3"
    },
    "language_info": {
      "name": "python"
    }
  },
  "cells": [
    {
      "cell_type": "code",
      "execution_count": 1,
      "metadata": {
        "colab": {
          "base_uri": "https://localhost:8080/"
        },
        "id": "ifpo51v41XMy",
        "outputId": "10d2d5e1-cd7e-4fa6-9508-4677506e4646"
      },
      "outputs": [
        {
          "output_type": "stream",
          "name": "stdout",
          "text": [
            "Best Buy Price: 1\n",
            "Best Sell Price: 9\n"
          ]
        }
      ],
      "source": [
        "def best_buy_sell(prices):\n",
        "    if not prices or len(prices) < 2:\n",
        "        return None, None\n",
        "\n",
        "    min_price = prices[0]\n",
        "    max_profit = 0\n",
        "    best_buy = best_sell = None\n",
        "\n",
        "    for price in prices:\n",
        "        if price < min_price:\n",
        "            min_price = price\n",
        "\n",
        "        profit = price - min_price\n",
        "        if profit > max_profit:\n",
        "            max_profit = profit\n",
        "            best_buy = min_price\n",
        "            best_sell = price\n",
        "\n",
        "    return best_buy, best_sell\n",
        "\n",
        "\n",
        "prices = [5, 2, 1, 6, 9, 7]\n",
        "buy, sell = best_buy_sell(prices)\n",
        "print(\"Best Buy Price:\", buy)\n",
        "print(\"Best Sell Price:\", sell)\n"
      ]
    },
    {
      "cell_type": "markdown",
      "source": [
        "**Explanation:**\n",
        "\n",
        "Iterate through the prices.\n",
        "\n",
        "Keep track of the lowest price encountered so far (min_price).\n",
        "\n",
        "Calculate the profit if selling at the current price.\n",
        "\n",
        "If this profit is the highest so far, update the best buy and sell prices."
      ],
      "metadata": {
        "id": "SY15HDw51duU"
      }
    },
    {
      "cell_type": "code",
      "source": [],
      "metadata": {
        "id": "1oqHJWsr1Xsp"
      },
      "execution_count": null,
      "outputs": []
    }
  ]
}